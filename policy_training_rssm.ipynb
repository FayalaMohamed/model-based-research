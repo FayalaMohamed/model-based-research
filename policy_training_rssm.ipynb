{
 "cells": [
  {
   "cell_type": "code",
   "execution_count": 13,
   "id": "58ad1eb7",
   "metadata": {},
   "outputs": [],
   "source": [
    "import torch\n",
    "import torch.nn as nn\n",
    "import torch.optim as optim\n",
    "import gymnasium as gym\n",
    "import numpy as np\n",
    "import random\n",
    "from pathlib import Path\n",
    "import matplotlib.pyplot as plt\n",
    "import ale_py\n",
    "import gymnasium as gym\n",
    "gym.register_envs(ale_py)\n",
    "\n",
    "device = \"cuda\" if torch.cuda.is_available() else \"cpu\""
   ]
  },
  {
   "cell_type": "code",
   "execution_count": 14,
   "id": "cc0f3cd5",
   "metadata": {},
   "outputs": [],
   "source": [
    "from gymnasium import spaces\n",
    "\n",
    "env = gym.make(\"ALE/Pong-v5\", frameskip=1, repeat_action_probability=0.0, full_action_space=True)\n",
    "env = gym.make(\"AlienNoFrameskip-v4\")\n",
    "env = gym.wrappers.ResizeObservation(env, (64, 64))\n",
    "\n",
    "\n",
    "def transform_obs(obs):\n",
    "    obs_t = np.transpose(obs, (2, 0, 1)).astype(np.float32) / 255.0\n",
    "    return obs_t\n",
    "\n",
    "new_obs_space = spaces.Box(low=0.0, high=1.0, shape=(3, 64, 64), dtype=np.float32)\n",
    "\n",
    "env = gym.wrappers.TransformObservation(\n",
    "    env,\n",
    "    func=transform_obs,\n",
    "    observation_space=new_obs_space,\n",
    ")"
   ]
  },
  {
   "cell_type": "code",
   "execution_count": 15,
   "id": "f8ff5a29",
   "metadata": {},
   "outputs": [],
   "source": [
    "obs, info = env.reset()\n",
    "assert obs.shape == (3, 64, 64), f\"Expected (3, 64, 64), got {obs.shape}\""
   ]
  },
  {
   "cell_type": "code",
   "execution_count": 16,
   "id": "4313439c",
   "metadata": {},
   "outputs": [],
   "source": [
    "import sys\n",
    "import os\n",
    "local_repo_path = os.path.abspath(os.path.join(os.getcwd(), 'world-models'))\n",
    "local_repo_path = os.path.abspath(os.path.join(os.getcwd(), '../world-models-fork'))\n",
    "if local_repo_path not in sys.path:\n",
    "    sys.path.append(local_repo_path)\n",
    "from models.rssm import RSSM"
   ]
  },
  {
   "cell_type": "code",
   "execution_count": null,
   "id": "940ef317",
   "metadata": {},
   "outputs": [
    {
     "name": "stdout",
     "output_type": "stream",
     "text": [
      "RSSM encoder loaded.\n"
     ]
    }
   ],
   "source": [
    "from models.models import EncoderCNN, DecoderCNN, RewardModel\n",
    "from models.dynamics import DynamicsModel\n",
    "\n",
    "# Dimensions must match training\n",
    "action_dim = 18\n",
    "hidden_size = 1024\n",
    "state_size = 32\n",
    "embedding_dim = 1024\n",
    "image_shape = (3, 64, 64)\n",
    "\n",
    "encoder = EncoderCNN(3, embedding_dim, (image_shape[1], image_shape[2])).to(device)\n",
    "decoder = DecoderCNN(hidden_size, state_size, embedding_dim, True, image_shape).to(device)\n",
    "reward_model = RewardModel(hidden_size, state_size).to(device)\n",
    "dynamics = DynamicsModel(hidden_size, action_dim, state_size, embedding_dim).to(device)\n",
    "\n",
    "rssm = RSSM(encoder, decoder, reward_model, dynamics, hidden_size, state_size, action_dim, embedding_dim, device)\n",
    "#checkpoint = torch.load(\"checkpoints/rssm/rssm_checkpoint_epoch_296.pth\", map_location=device)\n",
    "checkpoint = torch.load(\"checkpoints/rssm_best.pth\", map_location=device)\n",
    "rssm.encoder.load_state_dict(checkpoint[\"encoder\"])\n",
    "rssm.eval()\n",
    "print(\"RSSM encoder loaded.\")\n"
   ]
  },
  {
   "cell_type": "code",
   "execution_count": 18,
   "id": "61d27ea3",
   "metadata": {},
   "outputs": [],
   "source": [
    "class RSSMFeatureExtractor(nn.Module):\n",
    "    def __init__(self, rssm):\n",
    "        super().__init__()\n",
    "        self.encoder = rssm.encoder\n",
    "    def forward(self, obs):\n",
    "        obs_t = torch.tensor(obs, dtype=torch.float32, device=device).unsqueeze(0)\n",
    "        with torch.no_grad():\n",
    "            z = self.encoder(obs_t)\n",
    "        return z.squeeze(0)"
   ]
  },
  {
   "cell_type": "code",
   "execution_count": 19,
   "id": "73c9898a",
   "metadata": {},
   "outputs": [],
   "source": [
    "class LinearPolicy(nn.Module):\n",
    "    def __init__(self, latent_dim, action_dim):\n",
    "        super().__init__()\n",
    "        self.linear = nn.Linear(latent_dim, action_dim)\n",
    "    def forward(self, z):\n",
    "        logits = self.linear(z)\n",
    "        return torch.distributions.Categorical(logits=logits)"
   ]
  },
  {
   "cell_type": "code",
   "execution_count": 20,
   "id": "f50101fc",
   "metadata": {},
   "outputs": [],
   "source": [
    "encoder = RSSMFeatureExtractor(rssm).to(device)\n",
    "policy = LinearPolicy(embedding_dim, env.action_space.n).to(device)\n",
    "optimizer = torch.optim.Adam(policy.parameters(), lr=1e-3)"
   ]
  },
  {
   "cell_type": "code",
   "execution_count": 21,
   "id": "2c3a206e",
   "metadata": {},
   "outputs": [],
   "source": [
    "def run_episode(env, encoder, policy, gamma=0.99, seed=None):\n",
    "    if seed is not None:\n",
    "        torch.manual_seed(seed)\n",
    "        np.random.seed(seed)\n",
    "        random.seed(seed)\n",
    "        env.reset(seed=seed)\n",
    "\n",
    "    obs, info = env.reset()\n",
    "    log_probs, rewards = [], []\n",
    "    done = False\n",
    "    total_reward = 0\n",
    "\n",
    "    while not done:\n",
    "        z = encoder(obs)\n",
    "        dist = policy(z)\n",
    "        action = dist.sample()\n",
    "        log_probs.append(dist.log_prob(action))\n",
    "\n",
    "        obs, reward, terminated, truncated, _ = env.step(action.item())\n",
    "        done = terminated or truncated\n",
    "        rewards.append(reward)\n",
    "        total_reward += reward\n",
    "\n",
    "    # discounted returns\n",
    "    returns, G = [], 0\n",
    "    for r in reversed(rewards):\n",
    "        G = r + gamma * G\n",
    "        returns.insert(0, G)\n",
    "    returns = torch.tensor(returns, dtype=torch.float32, device=device)\n",
    "    returns = (returns - returns.mean()) / (returns.std() + 1e-8)\n",
    "    loss = -torch.sum(torch.stack(log_probs) * returns)\n",
    "    return loss, total_reward\n"
   ]
  },
  {
   "cell_type": "code",
   "execution_count": null,
   "id": "dfe37ba8",
   "metadata": {},
   "outputs": [
    {
     "name": "stdout",
     "output_type": "stream",
     "text": [
      "Episode 1/10 | Reward: 80.0\n",
      "Episode 2/10 | Reward: 110.0\n",
      "Episode 3/10 | Reward: 100.0\n",
      "Episode 4/10 | Reward: 120.0\n",
      "Episode 5/10 | Reward: 140.0\n",
      "Episode 6/10 | Reward: 100.0\n",
      "Episode 7/10 | Reward: 150.0\n",
      "Episode 8/10 | Reward: 140.0\n",
      "Episode 9/10 | Reward: 100.0\n",
      "Episode 10/10 | Reward: 120.0\n"
     ]
    }
   ],
   "source": [
    "num_episodes = 50\n",
    "reward_history = []\n",
    "\n",
    "for ep in range(num_episodes):\n",
    "    policy.train()\n",
    "    loss, total_reward = run_episode(env, encoder, policy, seed=ep)\n",
    "    optimizer.zero_grad()\n",
    "    loss.backward()\n",
    "    optimizer.step()\n",
    "    reward_history.append(float(total_reward))\n",
    "    torch.cuda.empty_cache()\n",
    "    print(f\"Episode {ep+1}/{num_episodes} | Reward: {total_reward:.1f}\")\n",
    "\n",
    "env.close()"
   ]
  },
  {
   "cell_type": "code",
   "execution_count": null,
   "id": "12ca2904",
   "metadata": {},
   "outputs": [
    {
     "name": "stdout",
     "output_type": "stream",
     "text": [
      "10 <class 'float'>\n"
     ]
    },
    {
     "ename": "",
     "evalue": "",
     "output_type": "error",
     "traceback": [
      "\u001b[1;31mThe Kernel crashed while executing code in the current cell or a previous cell. \n",
      "\u001b[1;31mPlease review the code in the cell(s) to identify a possible cause of the failure. \n",
      "\u001b[1;31mClick <a href='https://aka.ms/vscodeJupyterKernelCrash'>here</a> for more info. \n",
      "\u001b[1;31mView Jupyter <a href='command:jupyter.viewOutput'>log</a> for further details."
     ]
    }
   ],
   "source": [
    "print(len(reward_history), type(reward_history[0]))"
   ]
  },
  {
   "cell_type": "code",
   "execution_count": null,
   "id": "c293090e",
   "metadata": {},
   "outputs": [],
   "source": [
    "import matplotlib\n",
    "matplotlib.use(\"Agg\")\n",
    "\n",
    "import matplotlib.pyplot as plt\n",
    "plt.figure()\n",
    "plt.plot(reward_history)\n",
    "plt.xlabel(\"Episode\")\n",
    "plt.ylabel(\"Reward\")\n",
    "plt.title(\"RSSM-based Linear Policy on Pong\")\n",
    "plt.savefig(\"reward_plot.png\")\n",
    "print(\"Saved to reward_plot.png\")"
   ]
  },
  {
   "cell_type": "code",
   "execution_count": null,
   "id": "21c14975",
   "metadata": {},
   "outputs": [],
   "source": []
  }
 ],
 "metadata": {
  "kernelspec": {
   "display_name": "tf_env",
   "language": "python",
   "name": "python3"
  },
  "language_info": {
   "codemirror_mode": {
    "name": "ipython",
    "version": 3
   },
   "file_extension": ".py",
   "mimetype": "text/x-python",
   "name": "python",
   "nbconvert_exporter": "python",
   "pygments_lexer": "ipython3",
   "version": "3.9.23"
  }
 },
 "nbformat": 4,
 "nbformat_minor": 5
}
