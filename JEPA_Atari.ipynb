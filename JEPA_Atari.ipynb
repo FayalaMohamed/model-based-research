{
  "cells": [
    {
      "cell_type": "code",
      "execution_count": 1,
      "metadata": {
        "id": "2jA24aAACeke"
      },
      "outputs": [],
      "source": [
        "import tensorflow as tf\n",
        "import matplotlib.pyplot as plt\n",
        "import io\n",
        "from PIL import Image"
      ]
    },
    {
      "cell_type": "code",
      "execution_count": 2,
      "metadata": {
        "id": "X249tZbHLFed"
      },
      "outputs": [],
      "source": [
        "episodes_dataset = tf.data.TFRecordDataset(\n",
        "    \"gs://rl_unplugged/atari_episodes_ordered/Pong/run_1-00000-of-00050\",\n",
        "    compression_type=\"GZIP\"\n",
        ")"
      ]
    },
    {
      "cell_type": "code",
      "execution_count": 3,
      "metadata": {
        "id": "34QJ1V4eLOLT",
        "colab": {
          "base_uri": "https://localhost:8080/"
        },
        "outputId": "06d20c96-33fe-4232-be67-4c36822877ae"
      },
      "outputs": [
        {
          "output_type": "stream",
          "name": "stdout",
          "text": [
            "Features in the TFRecord example:\n",
            "clipped_rewards: float\n",
            "unclipped_rewards: float\n",
            "episode_return: float\n",
            "clipped_episode_return: float\n",
            "discounts: float\n",
            "observations: bytes\n",
            "actions: int64\n",
            "checkpoint_idx: int64\n",
            "episode_idx: int64\n"
          ]
        }
      ],
      "source": [
        "raw_example = next(iter(episodes_dataset))\n",
        "\n",
        "example = tf.train.Example()\n",
        "example.ParseFromString(raw_example.numpy())\n",
        "\n",
        "print(\"Features in the TFRecord example:\")\n",
        "for key in example.features.feature.keys():\n",
        "    feature = example.features.feature[key]\n",
        "    # Print the type of data stored in this feature\n",
        "    if feature.bytes_list.value:\n",
        "        dtype = \"bytes\"\n",
        "    elif feature.int64_list.value:\n",
        "        dtype = \"int64\"\n",
        "    elif feature.float_list.value:\n",
        "        dtype = \"float\"\n",
        "    else:\n",
        "        dtype = \"unknown\"\n",
        "    print(f\"{key}: {dtype}\")"
      ]
    },
    {
      "cell_type": "code",
      "execution_count": 4,
      "metadata": {
        "id": "wPG91OhkLQR-",
        "colab": {
          "base_uri": "https://localhost:8080/",
          "height": 82
        },
        "outputId": "3eea7e2f-8596-4ce6-cf51-959052356ada"
      },
      "outputs": [
        {
          "output_type": "display_data",
          "data": {
            "text/plain": [
              "<Figure size 2000x400 with 10 Axes>"
            ],
            "image/png": "[encoded data removed]"
          },
          "metadata": {}
        }
      ],
      "source": [
        "\n",
        "feature_description = {\n",
        "    \"observations\": tf.io.VarLenFeature(tf.string),\n",
        "    \"actions\": tf.io.VarLenFeature(tf.int64),\n",
        "    \"clipped_rewards\": tf.io.VarLenFeature(tf.float32),\n",
        "}\n",
        "\n",
        "def _parse_function(example_proto):\n",
        "    parsed = tf.io.parse_single_example(example_proto, feature_description)\n",
        "\n",
        "    obs = tf.sparse.to_dense(parsed[\"observations\"])\n",
        "    actions = tf.sparse.to_dense(parsed[\"actions\"])\n",
        "    rewards = tf.sparse.to_dense(parsed[\"clipped_rewards\"])\n",
        "\n",
        "    img = tf.io.decode_image(obs[0], channels=3)\n",
        "    return img, actions[0], rewards[0]\n",
        "\n",
        "dataset_parsed = episodes_dataset.map(_parse_function)\n",
        "\n",
        "# Plot first 10 frames with actions and rewards\n",
        "plt.figure(figsize=(20, 4))\n",
        "for i, (frame, action, reward) in enumerate(dataset_parsed.take(10)):\n",
        "    plt.subplot(2, 10, i+1)\n",
        "    plt.imshow(frame.numpy())       # now .numpy() is fine outside map\n",
        "    plt.axis('off')\n",
        "    plt.title(f\"A:{action.numpy()} R:{reward.numpy():.1f}\")\n",
        "plt.show()"
      ]
    },
    {
      "cell_type": "code",
      "execution_count": 5,
      "metadata": {
        "id": "pzqU1lwmLTXC",
        "colab": {
          "base_uri": "https://localhost:8080/"
        },
        "outputId": "f0fed076-91ce-4cbc-dfb7-9bfdde9e71fa"
      },
      "outputs": [
        {
          "output_type": "stream",
          "name": "stdout",
          "text": [
            "Cloning into 'world-models'...\n",
            "remote: Enumerating objects: 65, done.\u001b[K\n",
            "remote: Counting objects: 100% (65/65), done.\u001b[K\n",
            "remote: Compressing objects: 100% (51/51), done.\u001b[K\n",
            "remote: Total 65 (delta 13), reused 59 (delta 10), pack-reused 0 (from 0)\u001b[K\n",
            "Receiving objects: 100% (65/65), 153.67 KiB | 25.61 MiB/s, done.\n",
            "Resolving deltas: 100% (13/13), done.\n"
          ]
        }
      ],
      "source": [
        "!git clone https://github.com/Coluding/world-models.git"
      ]
    },
    {
      "cell_type": "code",
      "execution_count": 6,
      "metadata": {
        "id": "p_GJPrq3LWDB"
      },
      "outputs": [],
      "source": [
        "import sys\n",
        "sys.path.append('/content/world-models')\n",
        "from models.rssm import RSSM\n",
        "\n",
        "import torch\n",
        "from torch.utils.data import Dataset, DataLoader"
      ]
    },
    {
      "cell_type": "code",
      "execution_count": 7,
      "metadata": {
        "id": "vlEzmMlzLYSY",
        "colab": {
          "base_uri": "https://localhost:8080/"
        },
        "outputId": "30a37c1e-d5d1-4d1c-ca19-c5dd80661bbc"
      },
      "outputs": [
        {
          "output_type": "stream",
          "name": "stderr",
          "text": [
            "WARNING:tensorflow:From /usr/local/lib/python3.12/dist-packages/tensorflow/python/util/deprecation.py:660: calling map_fn_v2 (from tensorflow.python.ops.map_fn) with dtype is deprecated and will be removed in a future version.\n",
            "Instructions for updating:\n",
            "Use fn_output_signature instead\n"
          ]
        }
      ],
      "source": [
        "feature_description = {\n",
        "  \"observations\": tf.io.VarLenFeature(tf.string),\n",
        "  \"actions\": tf.io.VarLenFeature(tf.int64),\n",
        "  \"clipped_rewards\": tf.io.VarLenFeature(tf.float32),\n",
        "}\n",
        "\n",
        "def parse_sequence(example_proto):\n",
        "  parsed = tf.io.parse_single_example(example_proto, feature_description)\n",
        "  obs = tf.sparse.to_dense(parsed[\"observations\"])\n",
        "  actions = tf.sparse.to_dense(parsed[\"actions\"])\n",
        "  rewards = tf.sparse.to_dense(parsed[\"clipped_rewards\"])\n",
        "  imgs = tf.map_fn(lambda x: tf.io.decode_image(x, channels=3), obs, dtype=tf.uint8)\n",
        "  #imgs.set_shape([None, 84, 84, 3])\n",
        "  #imgs = tf.image.resize(imgs, [64, 64])\n",
        "  imgs = tf.cast(imgs, tf.float32) / 255.0\n",
        "  actions = tf.cast(actions, tf.int64)\n",
        "  rewards = tf.cast(rewards, tf.float32)\n",
        "  return imgs, actions, rewards\n",
        "\n",
        "sequence_length = 50\n",
        "batch_size = 16\n",
        "\n",
        "episodes_dataset = tf.data.TFRecordDataset(\n",
        "    \"gs://rl_unplugged/atari_episodes_ordered/Pong/run_1-00000-of-00050\",\n",
        "    compression_type=\"GZIP\"\n",
        ")\n",
        "dataset = episodes_dataset.map(parse_sequence)\n",
        "dataset = dataset.filter(lambda imgs, actions, rewards: tf.shape(imgs)[0] >= sequence_length)\n",
        "dataset = dataset.map(lambda imgs, actions, rewards: (\n",
        "    imgs[:sequence_length], actions[:sequence_length], rewards[:sequence_length]\n",
        "))\n",
        "dataset = dataset.batch(batch_size, drop_remainder=True)"
      ]
    },
    {
      "cell_type": "code",
      "execution_count": 8,
      "metadata": {
        "id": "fCfR4ulPLZw6",
        "colab": {
          "base_uri": "https://localhost:8080/",
          "height": 309
        },
        "outputId": "5b565dc2-bd7d-4004-848a-fb7638647c61"
      },
      "outputs": [
        {
          "output_type": "stream",
          "name": "stdout",
          "text": [
            "(865, 84, 84, 3)\n",
            "(865,)\n",
            "(865,)\n"
          ]
        },
        {
          "output_type": "display_data",
          "data": {
            "text/plain": [
              "<Figure size 1500x600 with 10 Axes>"
            ],
            "image/png": "[encoded data removed]"
          },
          "metadata": {}
        }
      ],
      "source": [
        "\n",
        "example = next(iter(episodes_dataset.take(1)))\n",
        "imgs, actions, rewards = parse_sequence(example)\n",
        "\n",
        "print(imgs.shape)\n",
        "print(actions.shape)\n",
        "print(rewards.shape)\n",
        "\n",
        "last_ten_imgs = imgs[-10:]\n",
        "\n",
        "fig, axes = plt.subplots(2, 5, figsize=(15, 6))\n",
        "for i, ax in enumerate(axes.flat):\n",
        "  ax.imshow(last_ten_imgs[i], vmin=0, vmax=1)\n",
        "  ax.set_title(f\"Image {i+1}\")\n",
        "  ax.axis(\"off\")\n",
        "plt.tight_layout()\n",
        "plt.show()\n"
      ]
    },
    {
      "cell_type": "code",
      "execution_count": 9,
      "metadata": {
        "id": "lCFkgWnDLbmM",
        "colab": {
          "base_uri": "https://localhost:8080/"
        },
        "outputId": "63a72157-cbe1-48fe-cce3-4450893b9926"
      },
      "outputs": [
        {
          "output_type": "stream",
          "name": "stdout",
          "text": [
            "imgs: (16, 50, 84, 84, 3)\n",
            "actions: (16, 50)\n",
            "rewards: (16, 50)\n"
          ]
        }
      ],
      "source": [
        "for imgs, actions, rewards in dataset.take(1):\n",
        "  print(\"imgs:\", imgs.shape)\n",
        "  print(\"actions:\", actions.shape)\n",
        "  print(\"rewards:\", rewards.shape)"
      ]
    },
    {
      "cell_type": "code",
      "execution_count": 10,
      "metadata": {
        "id": "19boZkHPLdvt",
        "colab": {
          "base_uri": "https://localhost:8080/",
          "height": 82
        },
        "outputId": "2992f6ea-20f4-49ad-c33e-d5de41f2abc4"
      },
      "outputs": [
        {
          "output_type": "display_data",
          "data": {
            "text/plain": [
              "<Figure size 2000x400 with 10 Axes>"
            ],
            "image/png": "[encoded data removed]"
          },
          "metadata": {}
        }
      ],
      "source": [
        "for imgs, actions, rewards in dataset.take(1):\n",
        "  seq_imgs = imgs[0]\n",
        "  seq_actions = actions[0]\n",
        "  seq_rewards = rewards[0]\n",
        "\n",
        "  plt.figure(figsize=(20, 4))\n",
        "  for i in range(10):\n",
        "    plt.subplot(2, 10, i + 1)\n",
        "    plt.imshow(seq_imgs[i].numpy())\n",
        "    plt.axis(\"off\")\n",
        "    plt.title(f\"A:{seq_actions[i].numpy()} R:{seq_rewards[i].numpy():.1f}\")\n",
        "  plt.show()"
      ]
    },
    {
      "cell_type": "code",
      "execution_count": 11,
      "metadata": {
        "id": "QIhUAc7tLfQW",
        "colab": {
          "base_uri": "https://localhost:8080/"
        },
        "outputId": "1c7deef4-64ae-491b-9983-1da7fcbb32ed"
      },
      "outputs": [
        {
          "output_type": "stream",
          "name": "stdout",
          "text": [
            "Original image shape (before resizing): (865, 84, 84, 3)\n"
          ]
        }
      ],
      "source": [
        "def parse_sequence_for_inspection(example_proto):\n",
        "    parsed = tf.io.parse_single_example(example_proto, feature_description)\n",
        "    obs = tf.sparse.to_dense(parsed[\"observations\"])\n",
        "    imgs = tf.map_fn(lambda x: tf.io.decode_image(x, channels=3), obs, dtype=tf.uint8)\n",
        "    print(\"Original image shape (before resizing):\", imgs.shape)\n",
        "    return imgs\n",
        "\n",
        "example = next(iter(episodes_dataset.take(1)))\n",
        "imgs = parse_sequence_for_inspection(example)"
      ]
    },
    {
      "cell_type": "code",
      "execution_count": 12,
      "metadata": {
        "id": "tVZ_A7mwLig8"
      },
      "outputs": [],
      "source": [
        "class AtariSequenceDataset(Dataset):\n",
        "  def __init__(self, tf_dataset, num_batches):\n",
        "    self.data = []\n",
        "    for i, (imgs, actions, rewards) in enumerate(tf_dataset):\n",
        "      if i >= num_batches:\n",
        "        break\n",
        "      self.data.append((\n",
        "        imgs.numpy(), actions.numpy(), rewards.numpy()\n",
        "      ))\n",
        "  def __len__(self):\n",
        "    return len(self.data)\n",
        "  def __getitem__(self, idx):\n",
        "    imgs, actions, rewards = self.data[idx]\n",
        "    imgs = torch.tensor(imgs, dtype=torch.float32)  # [seq, 64, 64, 3]\n",
        "    actions = torch.tensor(actions, dtype=torch.long)  # [seq]\n",
        "    rewards = torch.tensor(rewards, dtype=torch.float32)  # [seq]\n",
        "    return imgs, actions, rewards"
      ]
    },
    {
      "cell_type": "code",
      "execution_count": 13,
      "metadata": {
        "id": "laOKF1lzLk5N"
      },
      "outputs": [],
      "source": [
        "num_batches = 100\n",
        "atari_dataset = AtariSequenceDataset(dataset, num_batches)\n",
        "dataloader = DataLoader(atari_dataset, batch_size=1, shuffle=True)"
      ]
    },
    {
      "cell_type": "code",
      "execution_count": 14,
      "metadata": {
        "id": "5lapqUgMLnLY"
      },
      "outputs": [],
      "source": [
        "from models.models import EncoderCNN, DecoderCNN, RewardModel\n",
        "from models.rssm import RSSM\n",
        "from models.dynamics import DynamicsModel\n",
        "\n",
        "device = \"cuda\" if torch.cuda.is_available() else \"cpu\"\n",
        "action_dim = 6\n",
        "embedding_dim = 1024\n",
        "hidden_size = 1024\n",
        "state_size = 30\n",
        "embedding_size = 16384\n",
        "\n",
        "encoder = EncoderCNN(in_channels=3, embedding_dim=embedding_size, input_shape=(3, 64, 64)).to(device)\n",
        "decoder = DecoderCNN(hidden_size, state_size, embedding_size, use_bn=True, output_shape=(3, 64, 64)).to(device)\n",
        "reward_model = RewardModel(hidden_size, state_size).to(device)\n",
        "dynamics_model = DynamicsModel(hidden_size, state_size, action_dim, embedding_size).to(device)\n",
        "\n",
        "rssm = RSSM(encoder, decoder, reward_model, dynamics_model, hidden_size, state_size, action_dim, embedding_size, device=device)\n",
        "optimizer = torch.optim.Adam(rssm.parameters(), lr=1e-3)\n"
      ]
    },
    {
      "cell_type": "markdown",
      "source": [
        "# Training JEPA Decoder"
      ],
      "metadata": {
        "id": "iYD8CXxZEsMq"
      }
    },
    {
      "cell_type": "code",
      "source": [
        "# train_decoder_vjepa2.py\n",
        "# ---------------------------------------------------------------\n",
        "# Requires: pip install torch torchvision timm einops tensorflow\n",
        "# Optional (HF backend): pip install transformers decord (or eva-decord/decord2 on macOS)\n",
        "# ---------------------------------------------------------------\n",
        "import os, math, numpy as np, tensorflow as tf\n",
        "import torch, torch.nn as nn, torch.nn.functional as F\n",
        "from torch.utils.data import Dataset, DataLoader\n",
        "\n",
        "# ---- Config ----\n",
        "VJEPA_BACKEND = os.environ.get(\"VJEPA_BACKEND\", \"hub\")   # \"hub\" or \"hf\"\n",
        "USE_AC = bool(int(os.environ.get(\"VJEPA_USE_AC\", \"0\")))  # 1=use AC variant via hub\n",
        "HF_REPO = os.environ.get(\"VJEPA_HF_REPO\", \"facebook/vjepa2-vitl-fpc64-256\")\n",
        "\n",
        "TFRECORD_PATH = \"gs://rl_unplugged/atari_episodes_ordered/Pong/run_1-00000-of-00050\"\n",
        "SEQ_LEN = 50\n",
        "K_FRAMES = 16\n",
        "BATCH_TF = 8\n",
        "BATCH_TORCH = 16\n",
        "USE_GRAYSCALE = True\n",
        "EPOCHS = 5\n",
        "LR = 1e-3\n",
        "\n",
        "device = \"cuda\" if torch.cuda.is_available() else \"cpu\"\n",
        "print(\"Using device:\", device)\n",
        "\n",
        "# ---------------- TFRecords -> tf.data ----------------\n",
        "feature_description = {\n",
        "    \"observations\": tf.io.VarLenFeature(tf.string),\n",
        "    \"actions\": tf.io.VarLenFeature(tf.int64),\n",
        "    \"clipped_rewards\": tf.io.VarLenFeature(tf.float32),\n",
        "}\n",
        "\n",
        "def _decode_frame(x):\n",
        "    img = tf.io.decode_image(x, channels=3, expand_animations=False)  # uint8\n",
        "    img = tf.image.resize(img, [64, 64], antialias=True)\n",
        "    return tf.cast(img, tf.uint8)\n",
        "\n",
        "def parse_sequence(example_proto):\n",
        "    parsed = tf.io.parse_single_example(example_proto, feature_description)\n",
        "    obs = tf.sparse.to_dense(parsed[\"observations\"])\n",
        "    acts = tf.sparse.to_dense(parsed[\"actions\"])\n",
        "    rews = tf.sparse.to_dense(parsed[\"clipped_rewards\"])\n",
        "    imgs = tf.map_fn(_decode_frame, obs, fn_output_signature=tf.uint8)  # (T,64,64,3)\n",
        "    return imgs, tf.cast(acts, tf.int64), tf.cast(rews, tf.float32)\n",
        "\n",
        "episodes_dataset = tf.data.TFRecordDataset(TFRECORD_PATH, compression_type=\"GZIP\")\n",
        "dataset = (episodes_dataset\n",
        "           .map(parse_sequence, num_parallel_calls=tf.data.AUTOTUNE)\n",
        "           .filter(lambda im, a, r: tf.shape(im)[0] >= SEQ_LEN)\n",
        "           .map(lambda im, a, r: (im[:SEQ_LEN], a[:SEQ_LEN], r[:SEQ_LEN]))\n",
        "           .batch(BATCH_TF, drop_remainder=True)\n",
        "           .prefetch(tf.data.AUTOTUNE))\n",
        "\n",
        "# ------------- Bridge to PyTorch per-sequence items -------------\n",
        "class AtariSequenceDataset(Dataset):\n",
        "    def __init__(self, tf_dataset, num_tf_batches: int):\n",
        "        self.frames, self.actions, self.rewards = [], [], []\n",
        "        cnt = 0\n",
        "        for imgs_tf, acts_tf, rews_tf in tf_dataset:\n",
        "            B = imgs_tf.shape[0]\n",
        "            imgs = imgs_tf.numpy().astype(np.uint8)  # (B,T,64,64,3)\n",
        "            acts = acts_tf.numpy()\n",
        "            rews = rews_tf.numpy()\n",
        "            for b in range(B):\n",
        "                self.frames.append(imgs[b])           # (T,64,64,3)\n",
        "                self.actions.append(acts[b])\n",
        "                self.rewards.append(rews[b])\n",
        "            cnt += 1\n",
        "            if cnt >= num_tf_batches:\n",
        "                break\n",
        "    def __len__(self): return len(self.frames)\n",
        "    def __getitem__(self, idx):\n",
        "        # Return float [0,1]\n",
        "        imgs = torch.from_numpy(self.frames[idx].astype(np.float32) / 255.0)  # (T,64,64,3)\n",
        "        acts = torch.from_numpy(self.actions[idx]).long()\n",
        "        rews = torch.from_numpy(self.rewards[idx]).float()\n",
        "        return imgs, acts, rews\n",
        "\n",
        "NUM_TF_BATCHES_TO_LOAD = int(os.environ.get(\"NUM_TF_BATCHES\", \"100\"))\n",
        "pt_dataset = AtariSequenceDataset(dataset, NUM_TF_BATCHES_TO_LOAD)\n",
        "pt_loader = DataLoader(pt_dataset, batch_size=BATCH_TORCH, shuffle=True, num_workers=0, drop_last=True)\n",
        "print(f\"Loaded {len(pt_dataset)} sequences.\")\n",
        "\n",
        "# -------------------- Load V-JEPA 2 (hub or HF) --------------------\n",
        "preprocessor = None\n",
        "vjepa_model = None\n",
        "vjepa_ac_predictor = None\n",
        "\n",
        "if VJEPA_BACKEND == \"hub\":\n",
        "    # Requires timm + einops installed\n",
        "    preprocessor = torch.hub.load('facebookresearch/vjepa2', 'vjepa2_preprocessor')\n",
        "    if USE_AC:\n",
        "        obj = torch.hub.load('facebookresearch/vjepa2', 'vjepa2_ac_vit_giant')\n",
        "        # AC returns (encoder, predictor)\n",
        "        if isinstance(obj, tuple):\n",
        "            vjepa_model, vjepa_ac_predictor = obj[0], obj[1]\n",
        "        else:\n",
        "            vjepa_model = obj\n",
        "        print(\"Loaded V-JEPA 2-AC (ViT-g) from hub.\")\n",
        "    else:\n",
        "        obj = torch.hub.load('facebookresearch/vjepa2', 'vjepa2_vit_large')\n",
        "        vjepa_model = obj[0] if isinstance(obj, tuple) else obj\n",
        "        print(\"Loaded V-JEPA 2 (ViT-L) from hub.\")\n",
        "\n",
        "    vjepa_model.to(device).eval()\n",
        "    for p in vjepa_model.parameters(): p.requires_grad_(False)\n",
        "\n",
        "elif VJEPA_BACKEND == \"hf\":\n",
        "    from transformers import AutoVideoProcessor, AutoModel\n",
        "    vjepa_model = AutoModel.from_pretrained(HF_REPO).to(device).eval()\n",
        "    preprocessor = AutoVideoProcessor.from_pretrained(HF_REPO)\n",
        "    for p in vjepa_model.parameters(): p.requires_grad_(False)\n",
        "    print(f\"Loaded {HF_REPO} from Hugging Face.\")\n",
        "else:\n",
        "    raise ValueError(\"VJEPA_BACKEND must be 'hub' or 'hf'.\")\n",
        "\n",
        "# -------------------- frames -> tokens helper --------------------\n",
        "@torch.no_grad()\n",
        "# --- helper: get expected (H', W') from the backbone/preprocessor -------------\n",
        "def _infer_grid_hw():\n",
        "    # Try to read it from the model (most timm ViTs have patch_embed.grid_size)\n",
        "    Ht = Wt = None\n",
        "    if hasattr(vjepa_model, \"patch_embed\"):\n",
        "        pe = vjepa_model.patch_embed\n",
        "        if hasattr(pe, \"grid_size\") and pe.grid_size is not None:\n",
        "            try:\n",
        "                gs = pe.grid_size\n",
        "                if isinstance(gs, (tuple, list)) and len(gs) == 2:\n",
        "                    return int(gs[0]), int(gs[1])\n",
        "            except Exception:\n",
        "                pass\n",
        "        # fall back: patch size + processor target size\n",
        "        patch = None\n",
        "        if hasattr(pe, \"patch_size\"):\n",
        "            ps = pe.patch_size\n",
        "            if isinstance(ps, (tuple, list)): patch = int(ps[0])\n",
        "            elif isinstance(ps, int): patch = ps\n",
        "        # hub preprocessor typically resizes to 256; HF variants may do 256/384\n",
        "        target = 256\n",
        "        if VJEPA_BACKEND == \"hf\":\n",
        "            try:\n",
        "                size = preprocessor.size\n",
        "                if isinstance(size, dict) and \"shortest_edge\" in size:\n",
        "                    target = int(size[\"shortest_edge\"])\n",
        "                elif isinstance(size, int):\n",
        "                    target = size\n",
        "            except Exception:\n",
        "                pass\n",
        "        if patch and target % patch == 0:\n",
        "            Ht = Wt = target // patch\n",
        "            return Ht, Wt\n",
        "    # safe default for ViT-16 at 256px\n",
        "    return 16, 16\n",
        "\n",
        "# -------------------- frames -> tokens (robust folding) -----------------------\n",
        "@torch.no_grad()\n",
        "def frames_to_tokens(frames_bchw: torch.Tensor) -> torch.Tensor:\n",
        "    \"\"\"\n",
        "    frames_bchw: (B, C, 64, 64) in [0,1].\n",
        "    Returns tokens as (B, D, H', W').\n",
        "    Handles (B,N,D) and (B,T,N,D) by folding N to (G * H'*W').\n",
        "    \"\"\"\n",
        "    Ht_exp, Wt_exp = _infer_grid_hw()  # e.g., (16,16) for ViT-16 @ 256\n",
        "    spatial_tokens = Ht_exp * Wt_exp\n",
        "\n",
        "    if VJEPA_BACKEND == \"hub\":\n",
        "        # hub preprocessor returns list[tensor] -> stack to (B,C,256,256)\n",
        "        proc_list = preprocessor([f.cpu() for f in frames_bchw])\n",
        "        proc = torch.stack(proc_list, dim=0).to(device) if isinstance(proc_list, (list, tuple)) else proc_list.to(device)\n",
        "        out = vjepa_model(proc)\n",
        "        # normalize out->x\n",
        "        if isinstance(out, (list, tuple)) and len(out) > 0:\n",
        "            x = out[0]\n",
        "        elif isinstance(out, dict):\n",
        "            for k in (\"x\", \"feats\", \"last_hidden_state\", \"tokens\"):\n",
        "                if k in out: x = out[k]; break\n",
        "            else:\n",
        "                x = next(iter(out.values()))\n",
        "        else:\n",
        "            x = out\n",
        "\n",
        "    else:  # HF\n",
        "        frames_uint8 = (frames_bchw.clamp(0,1)*255).byte().cpu().permute(0,2,3,1).numpy()\n",
        "        videos = [f[None, ...] for f in frames_uint8]  # list of (T=1,H,W,C)\n",
        "        inputs = preprocessor(videos=videos, return_tensors=\"pt\").to(device)\n",
        "        out = vjepa_model(**inputs)\n",
        "        x = None\n",
        "        for attr in (\"last_hidden_state\", \"x\", \"feats\"):\n",
        "            if hasattr(out, attr): x = getattr(out, attr); break\n",
        "        if x is None and isinstance(out, (tuple, list)) and len(out) > 0:\n",
        "            x = out[0]\n",
        "        if x is None:\n",
        "            raise RuntimeError(f\"Cannot find tokens in HF outputs: {type(out)}\")\n",
        "\n",
        "    # ---- shape handling ----\n",
        "    if x.dim() == 4 and x.size(1) < 64:\n",
        "        # already (B, D, H', W')\n",
        "        tokens = x\n",
        "\n",
        "    elif x.dim() == 3:\n",
        "        # (B, N, D) — N may be G * (H'*W')\n",
        "        B, N, D = x.shape\n",
        "        if N % spatial_tokens == 0:\n",
        "            G = N // spatial_tokens\n",
        "            x = x.view(B, G, spatial_tokens, D)         # (B,G,H'W',D)\n",
        "            x = x.mean(dim=1)                           # average over views/clips\n",
        "            tokens = x.view(B, Ht_exp, Wt_exp, D).permute(0, 3, 1, 2).contiguous()\n",
        "        else:\n",
        "            # last resort: take first H'W' tokens\n",
        "            take = min(N, spatial_tokens)\n",
        "            x = x[:, :take, :]\n",
        "            pad_needed = spatial_tokens - take\n",
        "            if pad_needed > 0:\n",
        "                x = torch.cat([x, x[:, -1:, :].expand(B, pad_needed, D)], dim=1)\n",
        "            tokens = x.view(B, Ht_exp, Wt_exp, D).permute(0, 3, 1, 2).contiguous()\n",
        "\n",
        "    elif x.dim() == 4 and x.size(1) > 64:\n",
        "        # (B, T, N, D) — pick first T slice, then fold N\n",
        "        B, T, N, D = x.shape\n",
        "        x = x[:, 0]\n",
        "        if N % spatial_tokens == 0:\n",
        "            G = N // spatial_tokens\n",
        "            x = x.view(B, G, spatial_tokens, D).mean(dim=1)\n",
        "            tokens = x.view(B, Ht_exp, Wt_exp, D).permute(0, 3, 1, 2).contiguous()\n",
        "        else:\n",
        "            take = min(N, spatial_tokens)\n",
        "            x = x[:, :take, :]\n",
        "            pad_needed = spatial_tokens - take\n",
        "            if pad_needed > 0:\n",
        "                x = torch.cat([x, x[:, -1:, :].expand(B, pad_needed, D)], dim=1)\n",
        "            tokens = x.view(B, Ht_exp, Wt_exp, D).permute(0, 3, 1, 2).contiguous()\n",
        "    else:\n",
        "        raise RuntimeError(f\"Unexpected V-JEPA output shape: {tuple(x.shape)}\")\n",
        "\n",
        "    return tokens\n",
        "\n",
        "\n",
        "# -------------------- Decoder head --------------------\n",
        "def make_upsampler(in_ch: int, out_ch: int, h_tokens: int, w_tokens: int) -> nn.Sequential:\n",
        "    assert h_tokens == w_tokens, \"Expect square token grid.\"\n",
        "    layers = [nn.Conv2d(in_ch, 256, 1), nn.ReLU(inplace=True)]\n",
        "    curr = h_tokens\n",
        "    ch = 256\n",
        "    while curr < 64:\n",
        "        next_ch = max(64, ch // 2)\n",
        "        layers += [nn.ConvTranspose2d(ch, next_ch, 4, 2, 1), nn.ReLU(inplace=True)]\n",
        "        ch = next_ch\n",
        "        curr *= 2\n",
        "    layers += [nn.Conv2d(ch, out_ch, 3, padding=1), nn.Sigmoid()]\n",
        "    return nn.Sequential(*layers)\n",
        "\n",
        "class VJEPADecoder(nn.Module):\n",
        "    def __init__(self, d: int, h_tokens: int, w_tokens: int, out_ch: int = 1):\n",
        "        super().__init__()\n",
        "        self.net = make_upsampler(d, out_ch, h_tokens, w_tokens)\n",
        "    def forward(self, tokens: torch.Tensor) -> torch.Tensor:\n",
        "        out = self.net(tokens)  # (B,out_ch,~64,~64)\n",
        "        if out.shape[-2:] != (64, 64):\n",
        "            out = F.interpolate(out, size=(64, 64), mode=\"bilinear\", align_corners=False)\n",
        "        return out\n",
        "\n",
        "@torch.no_grad()\n",
        "def probe_token_shape():\n",
        "    dummy = torch.rand(4, 3, 64, 64, device=device)\n",
        "    toks = frames_to_tokens(dummy)\n",
        "    print(f\"[probe] token shape: {tuple(toks.shape)}\")\n",
        "    return toks.shape\n",
        "\n",
        "_, D_tok, Ht, Wt = probe_token_shape()\n",
        "decoder = VJEPADecoder(D_tok, Ht, Wt, out_ch=1 if USE_GRAYSCALE else 3).to(device)\n",
        "opt = torch.optim.Adam(decoder.parameters(), lr=LR)\n",
        "\n",
        "def recon_loss(pred, tgt):\n",
        "    return 0.5 * F.l1_loss(pred, tgt) + 0.5 * F.mse_loss(pred, tgt)\n",
        "\n",
        "# -------------------- Training loop --------------------\n",
        "decoder.train()\n",
        "for epoch in range(1, EPOCHS + 1):\n",
        "    running = 0.0\n",
        "    for imgs, acts, rews in pt_loader:\n",
        "        # imgs: (B, T, 64, 64, 3) in [0,1]\n",
        "        imgs = imgs[:, :K_FRAMES].permute(0, 1, 4, 2, 3).contiguous().to(device)  # (B,K,3,64,64)\n",
        "        frames = imgs.view(-1, 3, 64, 64)  # (B*K,3,64,64)\n",
        "\n",
        "        if USE_GRAYSCALE:\n",
        "            # JEPA expects RGB; targets are 1ch\n",
        "            frames_gray = torch.mean(frames, dim=1, keepdim=True)  # naive gray\n",
        "            frames_rgb = frames_gray.repeat(1, 3, 1, 1)\n",
        "            targets = frames_gray\n",
        "        else:\n",
        "            frames_rgb = frames\n",
        "            targets = frames\n",
        "\n",
        "        with torch.no_grad():\n",
        "            tokens = frames_to_tokens(frames_rgb)  # (B*K, D, H', W')\n",
        "\n",
        "        preds = decoder(tokens)\n",
        "        loss = recon_loss(preds, targets)\n",
        "\n",
        "        opt.zero_grad(); loss.backward(); opt.step()\n",
        "        running += loss.item()\n",
        "\n",
        "    print(f\"Epoch {epoch}/{EPOCHS} | recon: {running/len(pt_loader):.4f}\")\n",
        "\n",
        "print(\"Done.\")\n"
      ],
      "metadata": {
        "id": "V4TiC9B0E0Wi",
        "colab": {
          "base_uri": "https://localhost:8080/"
        },
        "outputId": "ef78c564-67e9-448d-da68-3c483906a168"
      },
      "execution_count": 16,
      "outputs": [
        {
          "metadata": {
            "tags": null
          },
          "name": "stdout",
          "output_type": "stream",
          "text": [
            "Using device: cuda\n",
            "Loaded 704 sequences.\n"
          ]
        },
        {
          "metadata": {
            "tags": null
          },
          "name": "stderr",
          "output_type": "stream",
          "text": [
            "Using cache found in /root/.cache/torch/hub/facebookresearch_vjepa2_main\n",
            "Using cache found in /root/.cache/torch/hub/facebookresearch_vjepa2_main\n"
          ]
        },
        {
          "metadata": {
            "tags": null
          },
          "name": "stdout",
          "output_type": "stream",
          "text": [
            "Loaded V-JEPA 2 (ViT-L) from hub.\n",
            "[probe] token shape: (1, 1024, 16, 16)\n"
          ]
        },
        {
          "metadata": {
            "tags": null
          },
          "name": "stderr",
          "output_type": "stream",
          "text": [
            "/tmp/ipython-input-2414135176.py:275: UserWarning: Using a target size (torch.Size([256, 1, 64, 64])) that is different to the input size (torch.Size([1, 1, 64, 64])). This will likely lead to incorrect results due to broadcasting. Please ensure they have the same size.\n",
            "  return 0.5 * F.l1_loss(pred, tgt) + 0.5 * F.mse_loss(pred, tgt)\n"
          ]
        },
        {
          "output_type": "stream",
          "name": "stdout",
          "text": [
            "Epoch 1/5 | recon: 0.0625\n",
            "Epoch 2/5 | recon: 0.0139\n",
            "Epoch 3/5 | recon: 0.0104\n",
            "Epoch 4/5 | recon: 0.0099\n",
            "Epoch 5/5 | recon: 0.0091\n",
            "Done.\n"
          ]
        }
      ]
    },
    {
      "cell_type": "markdown",
      "source": [
        "# Reconstruction"
      ],
      "metadata": {
        "id": "Duw0jBDwgese"
      }
    },
    {
      "cell_type": "code",
      "source": [
        "# === EVAL / VISUALIZATION ===\n",
        "import matplotlib.pyplot as plt\n",
        "import torchvision.utils as vutils\n",
        "import torch\n",
        "\n",
        "decoder.eval()\n",
        "\n",
        "@torch.no_grad()\n",
        "def psnr(pred, target, eps=1e-8):\n",
        "    # pred/target in [0,1], shape (N,1,64,64)\n",
        "    mse = torch.mean((pred - target) ** 2, dim=(1,2,3)) + eps\n",
        "    return 10.0 * torch.log10(1.0 / mse)\n",
        "\n",
        "# Simple SSIM (grayscale), gaussian-less approx for quick sanity checks\n",
        "def ssim_simple(x, y, C1=0.01**2, C2=0.03**2):\n",
        "    # x,y: (N,1,H,W) in [0,1]\n",
        "    mu_x = torch.mean(x, dim=(2,3), keepdim=True)\n",
        "    mu_y = torch.mean(y, dim=(2,3), keepdim=True)\n",
        "    sigma_x = torch.var(x, dim=(2,3), unbiased=False, keepdim=True)\n",
        "    sigma_y = torch.var(y, dim=(2,3), unbiased=False, keepdim=True)\n",
        "    sigma_xy = torch.mean((x - mu_x) * (y - mu_y), dim=(2,3), keepdim=True)\n",
        "\n",
        "    num = (2*mu_x*mu_y + C1) * (2*sigma_xy + C2)\n",
        "    den = (mu_x**2 + mu_y**2 + C1) * (sigma_x + sigma_y + C2)\n",
        "    ssim_map = num / den\n",
        "    return ssim_map.view(ssim_map.shape[0])\n",
        "\n",
        "# Grab ONE minibatch of sequences\n",
        "imgs_b, acts_b, rews_b = next(iter(pt_loader))  # imgs_b: (B,T,64,64,3) in [0,1]\n",
        "imgs_b = imgs_b[:, :K_FRAMES].permute(0,1,4,2,3).contiguous().to(device)  # (B,K,3,64,64)\n",
        "frames = imgs_b.reshape(-1, 3, 64, 64)  # (B*K,3,64,64)\n",
        "\n",
        "# Build RGB (for encoder) & grayscale target (for recon)\n",
        "frames_gray = torch.mean(frames, dim=1, keepdim=True)           # (B*K,1,64,64)\n",
        "frames_rgb  = frames_gray.repeat(1, 3, 1, 1)                    # (B*K,3,64,64)\n",
        "\n",
        "with torch.no_grad():\n",
        "    tokens = frames_to_tokens(frames_rgb)                       # (B*K, D, H', W')\n",
        "    recons = decoder(tokens)                                    # (B*K,1,64,64)\n",
        "\n",
        "# Metrics\n",
        "psnr_vals = psnr(recons, frames_gray)\n",
        "ssim_vals = ssim_simple(recons, frames_gray)\n",
        "print(f\"PSNR: {psnr_vals.mean().item():.2f} dB  |  SSIM: {ssim_vals.mean().item():.3f}\")\n",
        "\n",
        "# Make a small grid: 8 GTs over 8 RECONs\n",
        "Nshow = min(8, recons.shape[0])\n",
        "gt_grid   = vutils.make_grid(frames_gray[:Nshow], nrow=Nshow, pad_value=1.0)\n",
        "rec_grid  = vutils.make_grid(recons[:Nshow],      nrow=Nshow, pad_value=1.0)\n",
        "stacked   = torch.cat([gt_grid, rec_grid], dim=1)  # vertical concat (C,H*2,W)\n",
        "\n",
        "plt.figure(figsize=(Nshow*1.5, 3))\n",
        "plt.imshow(stacked.permute(1,2,0).cpu().numpy(), vmin=0, vmax=1)\n",
        "plt.axis('off')\n",
        "plt.title(\"Top: Ground Truth  |  Bottom: Reconstruction\")\n",
        "plt.show()\n",
        "\n",
        "# Optionally: save a side-by-side image\n",
        "os.makedirs(\"vjepa2_decoder_eval\", exist_ok=True)\n",
        "plt.imsave(\"vjepa2_decoder_eval/gt_rec_grid.png\", stacked.permute(1,2,0).cpu().numpy(), vmin=0, vmax=1)\n",
        "print(\"Saved grid to vjepa2_decoder_eval/gt_rec_grid.png\")\n"
      ],
      "metadata": {
        "colab": {
          "base_uri": "https://localhost:8080/",
          "height": 325
        },
        "id": "UdldQCApYBtL",
        "outputId": "135000be-2da5-42a7-c1d5-4a2b7f66d901"
      },
      "execution_count": 17,
      "outputs": [
        {
          "output_type": "stream",
          "name": "stdout",
          "text": [
            "PSNR: 35.81 dB  |  SSIM: 0.900\n"
          ]
        },
        {
          "output_type": "display_data",
          "data": {
            "text/plain": [
              "<Figure size 150x300 with 1 Axes>"
            ],
            "image/png": "[encoded data removed]"
          },
          "metadata": {}
        },
        {
          "output_type": "stream",
          "name": "stdout",
          "text": [
            "Saved grid to vjepa2_decoder_eval/gt_rec_grid.png\n"
          ]
        }
      ]
    }
  ],
  "metadata": {
    "colab": {
      "provenance": [],
      "gpuType": "A100"
    },
    "kernelspec": {
      "display_name": "Python 3",
      "name": "python3"
    },
    "language_info": {
      "name": "python"
    },
    "accelerator": "GPU"
  },
  "nbformat": 4,
  "nbformat_minor": 0
}