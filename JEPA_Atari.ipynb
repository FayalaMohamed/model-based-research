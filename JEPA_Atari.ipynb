{
  "cells": [
    {
      "cell_type": "code",
      "execution_count": 18,
      "metadata": {
        "id": "2jA24aAACeke"
      },
      "outputs": [],
      "source": [
        "import tensorflow as tf\n",
        "import matplotlib.pyplot as plt\n",
        "import io\n",
        "from PIL import Image"
      ]
    },
    {
      "cell_type": "code",
      "execution_count": 19,
      "metadata": {
        "id": "X249tZbHLFed"
      },
      "outputs": [],
      "source": [
        "episodes_dataset = tf.data.TFRecordDataset(\n",
        "    \"gs://rl_unplugged/atari_episodes_ordered/Pong/run_1-00000-of-00050\",\n",
        "    compression_type=\"GZIP\"\n",
        ")"
      ]
    },
    {
      "cell_type": "code",
      "execution_count": 20,
      "metadata": {
        "colab": {
          "base_uri": "https://localhost:8080/"
        },
        "id": "34QJ1V4eLOLT",
        "outputId": "e387d31a-9392-4a9d-c3d1-7ec347c4279f"
      },
      "outputs": [
        {
          "output_type": "stream",
          "name": "stdout",
          "text": [
            "Features in the TFRecord example:\n",
            "clipped_rewards: float\n",
            "unclipped_rewards: float\n",
            "episode_return: float\n",
            "clipped_episode_return: float\n",
            "discounts: float\n",
            "observations: bytes\n",
            "actions: int64\n",
            "checkpoint_idx: int64\n",
            "episode_idx: int64\n"
          ]
        }
      ],
      "source": [
        "raw_example = next(iter(episodes_dataset))\n",
        "\n",
        "example = tf.train.Example()\n",
        "example.ParseFromString(raw_example.numpy())\n",
        "\n",
        "print(\"Features in the TFRecord example:\")\n",
        "for key in example.features.feature.keys():\n",
        "    feature = example.features.feature[key]\n",
        "    # Print the type of data stored in this feature\n",
        "    if feature.bytes_list.value:\n",
        "        dtype = \"bytes\"\n",
        "    elif feature.int64_list.value:\n",
        "        dtype = \"int64\"\n",
        "    elif feature.float_list.value:\n",
        "        dtype = \"float\"\n",
        "    else:\n",
        "        dtype = \"unknown\"\n",
        "    print(f\"{key}: {dtype}\")"
      ]
    },
    {
      "cell_type": "code",
      "execution_count": 21,
      "metadata": {
        "colab": {
          "base_uri": "https://localhost:8080/",
          "height": 132
        },
        "id": "wPG91OhkLQR-",
        "outputId": "f7320cab-bb87-4cbb-d257-2235e9040b2f"
      },
      "outputs": [
        {
          "output_type": "display_data",
          "data": {
            "text/plain": [
              "<Figure size 2000x400 with 10 Axes>"
            ],
            "image/png": "[encoded data removed]"
          },
          "metadata": {}
        }
      ],
      "source": [
        "\n",
        "feature_description = {\n",
        "    \"observations\": tf.io.VarLenFeature(tf.string),\n",
        "    \"actions\": tf.io.VarLenFeature(tf.int64),\n",
        "    \"clipped_rewards\": tf.io.VarLenFeature(tf.float32),\n",
        "}\n",
        "\n",
        "def _parse_function(example_proto):\n",
        "    parsed = tf.io.parse_single_example(example_proto, feature_description)\n",
        "\n",
        "    obs = tf.sparse.to_dense(parsed[\"observations\"])\n",
        "    actions = tf.sparse.to_dense(parsed[\"actions\"])\n",
        "    rewards = tf.sparse.to_dense(parsed[\"clipped_rewards\"])\n",
        "\n",
        "    img = tf.io.decode_image(obs[0], channels=3)\n",
        "    return img, actions[0], rewards[0]\n",
        "\n",
        "dataset_parsed = episodes_dataset.map(_parse_function)\n",
        "\n",
        "# Plot first 10 frames with actions and rewards\n",
        "plt.figure(figsize=(20, 4))\n",
        "for i, (frame, action, reward) in enumerate(dataset_parsed.take(10)):\n",
        "    plt.subplot(2, 10, i+1)\n",
        "    plt.imshow(frame.numpy())       # now .numpy() is fine outside map\n",
        "    plt.axis('off')\n",
        "    plt.title(f\"A:{action.numpy()} R:{reward.numpy():.1f}\")\n",
        "plt.show()"
      ]
    },
    {
      "cell_type": "code",
      "execution_count": 22,
      "metadata": {
        "colab": {
          "base_uri": "https://localhost:8080/"
        },
        "id": "pzqU1lwmLTXC",
        "outputId": "4e12e821-9b78-4b9f-d307-e7148aa3f273"
      },
      "outputs": [
        {
          "output_type": "stream",
          "name": "stdout",
          "text": [
            "fatal: destination path 'world-models' already exists and is not an empty directory.\n"
          ]
        }
      ],
      "source": [
        "!git clone https://github.com/Coluding/world-models.git"
      ]
    },
    {
      "cell_type": "code",
      "execution_count": 23,
      "metadata": {
        "id": "p_GJPrq3LWDB"
      },
      "outputs": [],
      "source": [
        "import sys\n",
        "sys.path.append('/content/world-models')\n",
        "from models.rssm import RSSM\n",
        "\n",
        "import torch\n",
        "from torch.utils.data import Dataset, DataLoader"
      ]
    },
    {
      "cell_type": "code",
      "execution_count": 24,
      "metadata": {
        "id": "vlEzmMlzLYSY"
      },
      "outputs": [],
      "source": [
        "feature_description = {\n",
        "  \"observations\": tf.io.VarLenFeature(tf.string),\n",
        "  \"actions\": tf.io.VarLenFeature(tf.int64),\n",
        "  \"clipped_rewards\": tf.io.VarLenFeature(tf.float32),\n",
        "}\n",
        "\n",
        "def parse_sequence(example_proto):\n",
        "  parsed = tf.io.parse_single_example(example_proto, feature_description)\n",
        "  obs = tf.sparse.to_dense(parsed[\"observations\"])\n",
        "  actions = tf.sparse.to_dense(parsed[\"actions\"])\n",
        "  rewards = tf.sparse.to_dense(parsed[\"clipped_rewards\"])\n",
        "  imgs = tf.map_fn(lambda x: tf.io.decode_image(x, channels=3), obs, dtype=tf.uint8)\n",
        "  #imgs.set_shape([None, 84, 84, 3])\n",
        "  #imgs = tf.image.resize(imgs, [64, 64])\n",
        "  imgs = tf.cast(imgs, tf.float32) / 255.0\n",
        "  actions = tf.cast(actions, tf.int64)\n",
        "  rewards = tf.cast(rewards, tf.float32)\n",
        "  return imgs, actions, rewards\n",
        "\n",
        "sequence_length = 50\n",
        "batch_size = 16\n",
        "\n",
        "episodes_dataset = tf.data.TFRecordDataset(\n",
        "    \"gs://rl_unplugged/atari_episodes_ordered/Pong/run_1-00000-of-00050\",\n",
        "    compression_type=\"GZIP\"\n",
        ")\n",
        "dataset = episodes_dataset.map(parse_sequence)\n",
        "dataset = dataset.filter(lambda imgs, actions, rewards: tf.shape(imgs)[0] >= sequence_length)\n",
        "dataset = dataset.map(lambda imgs, actions, rewards: (\n",
        "    imgs[:sequence_length], actions[:sequence_length], rewards[:sequence_length]\n",
        "))\n",
        "dataset = dataset.batch(batch_size, drop_remainder=True)"
      ]
    },
    {
      "cell_type": "code",
      "execution_count": 25,
      "metadata": {
        "colab": {
          "base_uri": "https://localhost:8080/",
          "height": 492
        },
        "id": "fCfR4ulPLZw6",
        "outputId": "1a700a4b-4d06-4b16-cba4-e1b7a3689961"
      },
      "outputs": [
        {
          "output_type": "stream",
          "name": "stdout",
          "text": [
            "(865, 84, 84, 3)\n",
            "(865,)\n",
            "(865,)\n"
          ]
        },
        {
          "output_type": "display_data",
          "data": {
            "text/plain": [
              "<Figure size 1500x600 with 10 Axes>"
            ],
            "image/png": "[encoded data removed]"
          },
          "metadata": {}
        }
      ],
      "source": [
        "\n",
        "example = next(iter(episodes_dataset.take(1)))\n",
        "imgs, actions, rewards = parse_sequence(example)\n",
        "\n",
        "print(imgs.shape)\n",
        "print(actions.shape)\n",
        "print(rewards.shape)\n",
        "\n",
        "last_ten_imgs = imgs[-10:]\n",
        "\n",
        "fig, axes = plt.subplots(2, 5, figsize=(15, 6))\n",
        "for i, ax in enumerate(axes.flat):\n",
        "  ax.imshow(last_ten_imgs[i], vmin=0, vmax=1)\n",
        "  ax.set_title(f\"Image {i+1}\")\n",
        "  ax.axis(\"off\")\n",
        "plt.tight_layout()\n",
        "plt.show()\n"
      ]
    },
    {
      "cell_type": "code",
      "execution_count": 26,
      "metadata": {
        "colab": {
          "base_uri": "https://localhost:8080/"
        },
        "id": "lCFkgWnDLbmM",
        "outputId": "30c53055-f5e4-4079-c471-1ce574b94827"
      },
      "outputs": [
        {
          "output_type": "stream",
          "name": "stdout",
          "text": [
            "imgs: (16, 50, 84, 84, 3)\n",
            "actions: (16, 50)\n",
            "rewards: (16, 50)\n"
          ]
        }
      ],
      "source": [
        "for imgs, actions, rewards in dataset.take(1):\n",
        "  print(\"imgs:\", imgs.shape)\n",
        "  print(\"actions:\", actions.shape)\n",
        "  print(\"rewards:\", rewards.shape)"
      ]
    },
    {
      "cell_type": "code",
      "execution_count": 27,
      "metadata": {
        "colab": {
          "base_uri": "https://localhost:8080/",
          "height": 132
        },
        "id": "19boZkHPLdvt",
        "outputId": "d68fe872-6ff6-4788-af5c-469538be07b7"
      },
      "outputs": [
        {
          "output_type": "display_data",
          "data": {
            "text/plain": [
              "<Figure size 2000x400 with 10 Axes>"
            ],
            "image/png": "[encoded data removed]"
          },
          "metadata": {}
        }
      ],
      "source": [
        "for imgs, actions, rewards in dataset.take(1):\n",
        "  seq_imgs = imgs[0]\n",
        "  seq_actions = actions[0]\n",
        "  seq_rewards = rewards[0]\n",
        "\n",
        "  plt.figure(figsize=(20, 4))\n",
        "  for i in range(10):\n",
        "    plt.subplot(2, 10, i + 1)\n",
        "    plt.imshow(seq_imgs[i].numpy())\n",
        "    plt.axis(\"off\")\n",
        "    plt.title(f\"A:{seq_actions[i].numpy()} R:{seq_rewards[i].numpy():.1f}\")\n",
        "  plt.show()"
      ]
    },
    {
      "cell_type": "code",
      "execution_count": 28,
      "metadata": {
        "colab": {
          "base_uri": "https://localhost:8080/"
        },
        "id": "QIhUAc7tLfQW",
        "outputId": "45a25fae-c828-4dad-ea7f-c2cf6b1a2010"
      },
      "outputs": [
        {
          "output_type": "stream",
          "name": "stdout",
          "text": [
            "Original image shape (before resizing): (865, 84, 84, 3)\n"
          ]
        }
      ],
      "source": [
        "def parse_sequence_for_inspection(example_proto):\n",
        "    parsed = tf.io.parse_single_example(example_proto, feature_description)\n",
        "    obs = tf.sparse.to_dense(parsed[\"observations\"])\n",
        "    imgs = tf.map_fn(lambda x: tf.io.decode_image(x, channels=3), obs, dtype=tf.uint8)\n",
        "    print(\"Original image shape (before resizing):\", imgs.shape)\n",
        "    return imgs\n",
        "\n",
        "example = next(iter(episodes_dataset.take(1)))\n",
        "imgs = parse_sequence_for_inspection(example)"
      ]
    },
    {
      "cell_type": "code",
      "execution_count": 29,
      "metadata": {
        "id": "tVZ_A7mwLig8"
      },
      "outputs": [],
      "source": [
        "class AtariSequenceDataset(Dataset):\n",
        "  def __init__(self, tf_dataset, num_batches):\n",
        "    self.data = []\n",
        "    for i, (imgs, actions, rewards) in enumerate(tf_dataset):\n",
        "      if i >= num_batches:\n",
        "        break\n",
        "      self.data.append((\n",
        "        imgs.numpy(), actions.numpy(), rewards.numpy()\n",
        "      ))\n",
        "  def __len__(self):\n",
        "    return len(self.data)\n",
        "  def __getitem__(self, idx):\n",
        "    imgs, actions, rewards = self.data[idx]\n",
        "    imgs = torch.tensor(imgs, dtype=torch.float32)  # [seq, 64, 64, 3]\n",
        "    actions = torch.tensor(actions, dtype=torch.long)  # [seq]\n",
        "    rewards = torch.tensor(rewards, dtype=torch.float32)  # [seq]\n",
        "    return imgs, actions, rewards"
      ]
    },
    {
      "cell_type": "code",
      "execution_count": 30,
      "metadata": {
        "id": "laOKF1lzLk5N"
      },
      "outputs": [],
      "source": [
        "num_batches = 100\n",
        "atari_dataset = AtariSequenceDataset(dataset, num_batches)\n",
        "dataloader = DataLoader(atari_dataset, batch_size=1, shuffle=True)"
      ]
    },
    {
      "cell_type": "code",
      "execution_count": 31,
      "metadata": {
        "id": "5lapqUgMLnLY"
      },
      "outputs": [],
      "source": [
        "from models.models import EncoderCNN, DecoderCNN, RewardModel\n",
        "from models.rssm import RSSM\n",
        "from models.dynamics import DynamicsModel\n",
        "\n",
        "device = \"cuda\" if torch.cuda.is_available() else \"cpu\"\n",
        "action_dim = 6\n",
        "embedding_dim = 1024\n",
        "hidden_size = 1024\n",
        "state_size = 30\n",
        "embedding_size = 16384\n",
        "\n",
        "encoder = EncoderCNN(in_channels=3, embedding_dim=embedding_size, input_shape=(3, 64, 64)).to(device)\n",
        "decoder = DecoderCNN(hidden_size, state_size, embedding_size, use_bn=True, output_shape=(3, 64, 64)).to(device)\n",
        "reward_model = RewardModel(hidden_size, state_size).to(device)\n",
        "dynamics_model = DynamicsModel(hidden_size, state_size, action_dim, embedding_size).to(device)\n",
        "\n",
        "rssm = RSSM(encoder, decoder, reward_model, dynamics_model, hidden_size, state_size, action_dim, embedding_size, device=device)\n",
        "optimizer = torch.optim.Adam(rssm.parameters(), lr=1e-3)\n"
      ]
    },
    {
      "cell_type": "markdown",
      "metadata": {
        "id": "iYD8CXxZEsMq"
      },
      "source": [
        "# Training JEPA Decoder"
      ]
    },
    {
      "cell_type": "code",
      "execution_count": null,
      "metadata": {
        "colab": {
          "base_uri": "https://localhost:8080/"
        },
        "id": "V4TiC9B0E0Wi",
        "outputId": "849098b9-5f10-4e2c-e3f6-bfdc0a409bf7"
      },
      "outputs": [
        {
          "metadata": {
            "tags": null
          },
          "name": "stdout",
          "output_type": "stream",
          "text": [
            "Using device: cuda\n",
            "Loaded 704 sequences.\n"
          ]
        },
        {
          "metadata": {
            "tags": null
          },
          "name": "stderr",
          "output_type": "stream",
          "text": [
            "Using cache found in /root/.cache/torch/hub/facebookresearch_vjepa2_main\n",
            "Using cache found in /root/.cache/torch/hub/facebookresearch_vjepa2_main\n"
          ]
        },
        {
          "metadata": {
            "tags": null
          },
          "name": "stdout",
          "output_type": "stream",
          "text": [
            "Loaded V-JEPA 2 (ViT-L) from hub.\n",
            "[probe] token shape: (4, 1024, 16, 16)\n",
            "Epoch 1/5 | recon: 0.0282\n",
            "Epoch 2/5 | recon: 0.0051\n",
            "Epoch 3/5 | recon: 0.0038\n"
          ]
        }
      ],
      "source": [
        "# train_decoder_vjepa2.py\n",
        "# ---------------------------------------------------------------\n",
        "# Requires: pip install torch torchvision timm einops tensorflow\n",
        "# Optional (HF backend): pip install transformers decord (or eva-decord/decord2 on macOS)\n",
        "# ---------------------------------------------------------------\n",
        "import os, math, numpy as np, tensorflow as tf\n",
        "import torch, torch.nn as nn, torch.nn.functional as F\n",
        "from torch.utils.data import Dataset, DataLoader\n",
        "\n",
        "# ---- Config ----\n",
        "VJEPA_BACKEND = os.environ.get(\"VJEPA_BACKEND\", \"hub\")   # \"hub\" or \"hf\"\n",
        "USE_AC = bool(int(os.environ.get(\"VJEPA_USE_AC\", \"0\")))  # 1=use AC variant via hub\n",
        "HF_REPO = os.environ.get(\"VJEPA_HF_REPO\", \"facebook/vjepa2-vitl-fpc64-256\")\n",
        "\n",
        "TFRECORD_PATH = \"gs://rl_unplugged/atari_episodes_ordered/Pong/run_1-00000-of-00050\"\n",
        "SEQ_LEN = 50\n",
        "K_FRAMES = 16\n",
        "BATCH_TF = 8\n",
        "BATCH_TORCH = 8\n",
        "USE_GRAYSCALE = True\n",
        "EPOCHS = 5\n",
        "LR = 1e-3\n",
        "ENCODER_MICROBATCH = 8  # number of frames per encoder call\n",
        "USE_BF16 = torch.cuda.is_bf16_supported()\n",
        "\n",
        "\n",
        "device = \"cuda\" if torch.cuda.is_available() else \"cpu\"\n",
        "print(\"Using device:\", device)\n",
        "\n",
        "# ---------------- TFRecords -> tf.data ----------------\n",
        "feature_description = {\n",
        "    \"observations\": tf.io.VarLenFeature(tf.string),\n",
        "    \"actions\": tf.io.VarLenFeature(tf.int64),\n",
        "    \"clipped_rewards\": tf.io.VarLenFeature(tf.float32),\n",
        "}\n",
        "\n",
        "def _decode_frame(x):\n",
        "    img = tf.io.decode_image(x, channels=3, expand_animations=False)  # uint8\n",
        "    img = tf.image.resize(img, [64, 64], antialias=True)\n",
        "    return tf.cast(img, tf.uint8)\n",
        "\n",
        "def parse_sequence(example_proto):\n",
        "    parsed = tf.io.parse_single_example(example_proto, feature_description)\n",
        "    obs = tf.sparse.to_dense(parsed[\"observations\"])\n",
        "    acts = tf.sparse.to_dense(parsed[\"actions\"])\n",
        "    rews = tf.sparse.to_dense(parsed[\"clipped_rewards\"])\n",
        "    imgs = tf.map_fn(_decode_frame, obs, fn_output_signature=tf.uint8)  # (T,64,64,3)\n",
        "    return imgs, tf.cast(acts, tf.int64), tf.cast(rews, tf.float32)\n",
        "\n",
        "episodes_dataset = tf.data.TFRecordDataset(TFRECORD_PATH, compression_type=\"GZIP\")\n",
        "dataset = (episodes_dataset\n",
        "           .map(parse_sequence, num_parallel_calls=tf.data.AUTOTUNE)\n",
        "           .filter(lambda im, a, r: tf.shape(im)[0] >= SEQ_LEN)\n",
        "           .map(lambda im, a, r: (im[:SEQ_LEN], a[:SEQ_LEN], r[:SEQ_LEN]))\n",
        "           .batch(BATCH_TF, drop_remainder=True)\n",
        "           .prefetch(tf.data.AUTOTUNE))\n",
        "\n",
        "# ------------- Bridge to PyTorch per-sequence items -------------\n",
        "class AtariSequenceDataset(Dataset):\n",
        "    def __init__(self, tf_dataset, num_tf_batches: int):\n",
        "        self.frames, self.actions, self.rewards = [], [], []\n",
        "        cnt = 0\n",
        "        for imgs_tf, acts_tf, rews_tf in tf_dataset:\n",
        "            B = imgs_tf.shape[0]\n",
        "            imgs = imgs_tf.numpy().astype(np.uint8)  # (B,T,64,64,3)\n",
        "            acts = acts_tf.numpy()\n",
        "            rews = rews_tf.numpy()\n",
        "            for b in range(B):\n",
        "                self.frames.append(imgs[b])           # (T,64,64,3)\n",
        "                self.actions.append(acts[b])\n",
        "                self.rewards.append(rews[b])\n",
        "            cnt += 1\n",
        "            if cnt >= num_tf_batches:\n",
        "                break\n",
        "    def __len__(self): return len(self.frames)\n",
        "    def __getitem__(self, idx):\n",
        "        # Return float [0,1]\n",
        "        imgs = torch.from_numpy(self.frames[idx].astype(np.float32) / 255.0)  # (T,64,64,3)\n",
        "        acts = torch.from_numpy(self.actions[idx]).long()\n",
        "        rews = torch.from_numpy(self.rewards[idx]).float()\n",
        "        return imgs, acts, rews\n",
        "\n",
        "NUM_TF_BATCHES_TO_LOAD = int(os.environ.get(\"NUM_TF_BATCHES\", \"100\"))\n",
        "pt_dataset = AtariSequenceDataset(dataset, NUM_TF_BATCHES_TO_LOAD)\n",
        "pt_loader = DataLoader(pt_dataset, batch_size=BATCH_TORCH, shuffle=True, num_workers=0, drop_last=True)\n",
        "print(f\"Loaded {len(pt_dataset)} sequences.\")\n",
        "\n",
        "# -------------------- Load V-JEPA 2 (hub or HF) --------------------\n",
        "preprocessor = None\n",
        "vjepa_model = None\n",
        "vjepa_ac_predictor = None\n",
        "\n",
        "if VJEPA_BACKEND == \"hub\":\n",
        "    # Requires timm + einops installed\n",
        "    preprocessor = torch.hub.load('facebookresearch/vjepa2', 'vjepa2_preprocessor')\n",
        "    if USE_AC:\n",
        "        obj = torch.hub.load('facebookresearch/vjepa2', 'vjepa2_ac_vit_giant')\n",
        "        # AC returns (encoder, predictor)\n",
        "        if isinstance(obj, tuple):\n",
        "            vjepa_model, vjepa_ac_predictor = obj[0], obj[1]\n",
        "        else:\n",
        "            vjepa_model = obj\n",
        "        print(\"Loaded V-JEPA 2-AC (ViT-g) from hub.\")\n",
        "    else:\n",
        "        obj = torch.hub.load('facebookresearch/vjepa2', 'vjepa2_vit_large')\n",
        "        vjepa_model = obj[0] if isinstance(obj, tuple) else obj\n",
        "        print(\"Loaded V-JEPA 2 (ViT-L) from hub.\")\n",
        "\n",
        "    vjepa_model.to(device).eval()\n",
        "    for p in vjepa_model.parameters(): p.requires_grad_(False)\n",
        "\n",
        "elif VJEPA_BACKEND == \"hf\":\n",
        "    from transformers import AutoVideoProcessor, AutoModel\n",
        "    vjepa_model = AutoModel.from_pretrained(HF_REPO).to(device).eval()\n",
        "    preprocessor = AutoVideoProcessor.from_pretrained(HF_REPO)\n",
        "    for p in vjepa_model.parameters(): p.requires_grad_(False)\n",
        "    print(f\"Loaded {HF_REPO} from Hugging Face.\")\n",
        "else:\n",
        "    raise ValueError(\"VJEPA_BACKEND must be 'hub' or 'hf'.\")\n",
        "\n",
        "# -------------------- frames -> tokens helper --------------------\n",
        "# --- infer spatial grid (unchanged) ------------------------------------------\n",
        "def _infer_grid_hw():\n",
        "    if hasattr(vjepa_model, \"patch_embed\"):\n",
        "        pe = vjepa_model.patch_embed\n",
        "        if hasattr(pe, \"grid_size\") and pe.grid_size is not None:\n",
        "            gs = pe.grid_size\n",
        "            if isinstance(gs, (tuple, list)) and len(gs) == 2:\n",
        "                return int(gs[0]), int(gs[1])\n",
        "        # fallback: patch size + target resize\n",
        "        patch = None\n",
        "        if hasattr(pe, \"patch_size\"):\n",
        "            ps = pe.patch_size\n",
        "            patch = int(ps[0]) if isinstance(ps, (tuple, list)) else int(ps)\n",
        "        target = 256\n",
        "        return (target // patch, target // patch) if patch and target % patch == 0 else (16, 16)\n",
        "    return 16, 16\n",
        "\n",
        "# --- NEW: infer temporal settings --------------------------------------------\n",
        "def _infer_temporal_T_and_tubelet():\n",
        "    \"\"\"Return (T_in, tubelet_t). Default to (16, 2) if not found.\"\"\"\n",
        "    T_in, tubelet_t = 16, 2\n",
        "    pe = getattr(vjepa_model, \"patch_embed\", None)\n",
        "    if pe is not None:\n",
        "        # Common names in timm-style video ViTs\n",
        "        if hasattr(pe, \"tubelet_size\"):\n",
        "            ts = pe.tubelet_size  # e.g., (2, 16, 16)\n",
        "            if isinstance(ts, (tuple, list)) and len(ts) >= 1:\n",
        "                tubelet_t = int(ts[0])\n",
        "        if hasattr(vjepa_model, \"num_frames\"):\n",
        "            try:\n",
        "                T_in = int(vjepa_model.num_frames)\n",
        "            except Exception:\n",
        "                pass\n",
        "    return T_in, tubelet_t\n",
        "\n",
        "# --- REPLACE frames_to_tokens (hub branch) -----------------------------------\n",
        "@torch.no_grad()\n",
        "def frames_to_tokens(frames_bchw: torch.Tensor) -> torch.Tensor:\n",
        "    \"\"\"\n",
        "    frames_bchw: (B, C, 64, 64) in [0,1]\n",
        "    Returns: (B, D, H', W'), processed in micro-batches to control VRAM.\n",
        "    \"\"\"\n",
        "    Ht_exp, Wt_exp = _infer_grid_hw()\n",
        "    spatial_tokens = Ht_exp * Wt_exp\n",
        "    T_in, _ = _infer_temporal_T_and_tubelet()  # e.g., (16, 2)\n",
        "\n",
        "    def _proc_one_frame(f: torch.Tensor) -> torch.Tensor:\n",
        "        out = preprocessor([f.cpu()])\n",
        "        if isinstance(out, (list, tuple)):\n",
        "            out = out[0]\n",
        "        # out: (C,256,256) or (C,T,256,256)\n",
        "        if out.dim() == 3:\n",
        "            out = out.unsqueeze(1).expand(-1, T_in, -1, -1)  # (C,T,256,256)\n",
        "        elif out.dim() == 4:\n",
        "            Tcur = out.size(1)\n",
        "            if Tcur < T_in:\n",
        "                reps = math.ceil(T_in / Tcur)\n",
        "                out = out.repeat(1, reps, 1, 1)[:, :T_in]\n",
        "            elif Tcur > T_in:\n",
        "                out = out[:, :T_in]\n",
        "        return out  # (C,T_in,256,256)\n",
        "\n",
        "    # Preprocess ALL frames on CPU first to avoid repeated Python calls later\n",
        "    prepped = [_proc_one_frame(f) for f in frames_bchw]    # list of (C,T,256,256)\n",
        "    B = len(prepped)\n",
        "\n",
        "    tokens_list = []\n",
        "    dtype_amp = torch.bfloat16 if USE_BF16 else torch.float16\n",
        "    for start in range(0, B, ENCODER_MICROBATCH):\n",
        "        end = min(B, start + ENCODER_MICROBATCH)\n",
        "        clip = torch.stack(prepped[start:end], dim=0)      # (b,C,T,256,256)\n",
        "        clip = clip.to(device, non_blocking=True)\n",
        "\n",
        "        with torch.autocast(device_type=\"cuda\", dtype=dtype_amp):\n",
        "            out = vjepa_model(clip)\n",
        "\n",
        "        # normalize return to tensor x\n",
        "        if isinstance(out, (list, tuple)) and len(out) > 0:\n",
        "            x = out[0]\n",
        "        elif isinstance(out, dict):\n",
        "            for k in (\"x\", \"feats\", \"last_hidden_state\", \"tokens\"):\n",
        "                if k in out:\n",
        "                    x = out[k]; break\n",
        "            else:\n",
        "                x = next(iter(out.values()))\n",
        "        else:\n",
        "            x = out\n",
        "\n",
        "        # fold to (b, D, H', W')\n",
        "        if x.dim() == 4 and x.size(1) < 64:\n",
        "            toks = x  # (b,D,H',W')\n",
        "        elif x.dim() == 3:\n",
        "            b, N, D = x.shape\n",
        "            spatial = spatial_tokens\n",
        "            if N % spatial == 0:\n",
        "                G = N // spatial\n",
        "                x = x.view(b, G, spatial, D).mean(dim=1)\n",
        "                toks = x.view(b, Ht_exp, Wt_exp, D).permute(0,3,1,2).contiguous()\n",
        "            else:\n",
        "                take = min(N, spatial)\n",
        "                x = x[:, :take, :]\n",
        "                pad = spatial - take\n",
        "                if pad > 0:\n",
        "                    x = torch.cat([x, x[:, -1:, :].expand(b, pad, D)], dim=1)\n",
        "                toks = x.view(b, Ht_exp, Wt_exp, D).permute(0,3,1,2).contiguous()\n",
        "        elif x.dim() == 4 and x.size(1) > 64:\n",
        "            b, Tprime, N, D = x.shape\n",
        "            x = x[:, 0]\n",
        "            spatial = spatial_tokens\n",
        "            if N % spatial == 0:\n",
        "                G = N // spatial\n",
        "                x = x.view(b, G, spatial, D).mean(dim=1)\n",
        "                toks = x.view(b, Ht_exp, Wt_exp, D).permute(0,3,1,2).contiguous()\n",
        "            else:\n",
        "                take = min(N, spatial)\n",
        "                x = x[:, :take, :]\n",
        "                pad = spatial - take\n",
        "                if pad > 0:\n",
        "                    x = torch.cat([x, x[:, -1:, :].expand(b, pad, D)], dim=1)\n",
        "                toks = x.view(b, Ht_exp, Wt_exp, D).permute(0,3,1,2).contiguous()\n",
        "        else:\n",
        "            raise RuntimeError(f\"Unexpected V-JEPA output shape: {tuple(x.shape)}\")\n",
        "\n",
        "        tokens_list.append(toks)\n",
        "\n",
        "        # free memory of this chunk\n",
        "        del clip, out, x, toks\n",
        "        torch.cuda.empty_cache()\n",
        "\n",
        "    tokens = torch.cat(tokens_list, dim=0)                 # (B,D,H',W')\n",
        "    assert tokens.size(0) == frames_bchw.size(0)\n",
        "    return tokens\n",
        "\n",
        "\n",
        "\n",
        "\n",
        "# -------------------- Decoder head --------------------\n",
        "def make_upsampler(in_ch: int, out_ch: int, h_tokens: int, w_tokens: int) -> nn.Sequential:\n",
        "    assert h_tokens == w_tokens, \"Expect square token grid.\"\n",
        "    layers = [nn.Conv2d(in_ch, 256, 1), nn.ReLU(inplace=True)]\n",
        "    curr = h_tokens\n",
        "    ch = 256\n",
        "    while curr < 64:\n",
        "        next_ch = max(64, ch // 2)\n",
        "        layers += [nn.ConvTranspose2d(ch, next_ch, 4, 2, 1), nn.ReLU(inplace=True)]\n",
        "        ch = next_ch\n",
        "        curr *= 2\n",
        "    layers += [nn.Conv2d(ch, out_ch, 3, padding=1), nn.Sigmoid()]\n",
        "    return nn.Sequential(*layers)\n",
        "\n",
        "class VJEPADecoder(nn.Module):\n",
        "    def __init__(self, d: int, h_tokens: int, w_tokens: int, out_ch: int = 1):\n",
        "        super().__init__()\n",
        "        self.net = make_upsampler(d, out_ch, h_tokens, w_tokens)\n",
        "    def forward(self, tokens: torch.Tensor) -> torch.Tensor:\n",
        "        out = self.net(tokens)  # (B,out_ch,~64,~64)\n",
        "        if out.shape[-2:] != (64, 64):\n",
        "            out = F.interpolate(out, size=(64, 64), mode=\"bilinear\", align_corners=False)\n",
        "        return out\n",
        "\n",
        "@torch.no_grad()\n",
        "def probe_token_shape():\n",
        "    dummy = torch.rand(4, 3, 64, 64, device=device)\n",
        "    toks = frames_to_tokens(dummy)\n",
        "    print(f\"[probe] token shape: {tuple(toks.shape)}\")\n",
        "    return toks.shape\n",
        "\n",
        "_, D_tok, Ht, Wt = probe_token_shape()\n",
        "decoder = VJEPADecoder(D_tok, Ht, Wt, out_ch=1 if USE_GRAYSCALE else 3).to(device)\n",
        "opt = torch.optim.Adam(decoder.parameters(), lr=LR)\n",
        "\n",
        "def recon_loss(pred, tgt):\n",
        "    return 0.5 * F.l1_loss(pred, tgt) + 0.5 * F.mse_loss(pred, tgt)\n",
        "\n",
        "# -------------------- Training loop --------------------\n",
        "decoder.train()\n",
        "for epoch in range(1, EPOCHS + 1):\n",
        "    running = 0.0\n",
        "    for imgs, acts, rews in pt_loader:\n",
        "        # imgs: (B, T, 64, 64, 3) in [0,1]\n",
        "        imgs = imgs[:, :K_FRAMES].permute(0, 1, 4, 2, 3).contiguous().to(device)  # (B,K,3,64,64)\n",
        "        frames = imgs.view(-1, 3, 64, 64)  # (B*K,3,64,64)\n",
        "\n",
        "        if USE_GRAYSCALE:\n",
        "            # JEPA expects RGB; targets are 1ch\n",
        "            frames_gray = torch.mean(frames, dim=1, keepdim=True)  # naive gray\n",
        "            frames_rgb = frames_gray.repeat(1, 3, 1, 1)\n",
        "            targets = frames_gray\n",
        "        else:\n",
        "            frames_rgb = frames\n",
        "            targets = frames\n",
        "\n",
        "        with torch.no_grad():\n",
        "            tokens = frames_to_tokens(frames_rgb)  # (B*K, D, H', W')\n",
        "\n",
        "        preds = decoder(tokens)\n",
        "        loss = recon_loss(preds, targets)\n",
        "\n",
        "        opt.zero_grad(); loss.backward(); opt.step()\n",
        "        running += loss.item()\n",
        "\n",
        "    print(f\"Epoch {epoch}/{EPOCHS} | recon: {running/len(pt_loader):.4f}\")\n",
        "\n",
        "print(\"Done.\")\n"
      ]
    },
    {
      "cell_type": "markdown",
      "metadata": {
        "id": "Duw0jBDwgese"
      },
      "source": [
        "# Reconstruction"
      ]
    },
    {
      "cell_type": "code",
      "execution_count": 17,
      "metadata": {
        "id": "UdldQCApYBtL",
        "colab": {
          "base_uri": "https://localhost:8080/",
          "height": 325
        },
        "outputId": "ecca4338-9ffd-43ea-849b-6d9ba8187c93"
      },
      "outputs": [
        {
          "output_type": "stream",
          "name": "stdout",
          "text": [
            "PSNR: 38.19 dB  |  SSIM: 0.992\n"
          ]
        },
        {
          "output_type": "display_data",
          "data": {
            "text/plain": [
              "<Figure size 1200x300 with 1 Axes>"
            ],
            "image/png": "[encoded data removed]"
          },
          "metadata": {}
        },
        {
          "output_type": "stream",
          "name": "stdout",
          "text": [
            "Saved grid to vjepa2_decoder_eval/gt_rec_grid.png\n"
          ]
        }
      ],
      "source": [
        "# === EVAL / VISUALIZATION ===\n",
        "import matplotlib.pyplot as plt\n",
        "import torchvision.utils as vutils\n",
        "import torch\n",
        "\n",
        "decoder.eval()\n",
        "\n",
        "@torch.no_grad()\n",
        "def psnr(pred, target, eps=1e-8):\n",
        "    # pred/target in [0,1], shape (N,1,64,64)\n",
        "    mse = torch.mean((pred - target) ** 2, dim=(1,2,3)) + eps\n",
        "    return 10.0 * torch.log10(1.0 / mse)\n",
        "\n",
        "# Simple SSIM (grayscale), gaussian-less approx for quick sanity checks\n",
        "def ssim_simple(x, y, C1=0.01**2, C2=0.03**2):\n",
        "    # x,y: (N,1,H,W) in [0,1]\n",
        "    mu_x = torch.mean(x, dim=(2,3), keepdim=True)\n",
        "    mu_y = torch.mean(y, dim=(2,3), keepdim=True)\n",
        "    sigma_x = torch.var(x, dim=(2,3), unbiased=False, keepdim=True)\n",
        "    sigma_y = torch.var(y, dim=(2,3), unbiased=False, keepdim=True)\n",
        "    sigma_xy = torch.mean((x - mu_x) * (y - mu_y), dim=(2,3), keepdim=True)\n",
        "\n",
        "    num = (2*mu_x*mu_y + C1) * (2*sigma_xy + C2)\n",
        "    den = (mu_x**2 + mu_y**2 + C1) * (sigma_x + sigma_y + C2)\n",
        "    ssim_map = num / den\n",
        "    return ssim_map.view(ssim_map.shape[0])\n",
        "\n",
        "# Grab ONE minibatch of sequences\n",
        "imgs_b, acts_b, rews_b = next(iter(pt_loader))  # imgs_b: (B,T,64,64,3) in [0,1]\n",
        "imgs_b = imgs_b[:, :K_FRAMES].permute(0,1,4,2,3).contiguous().to(device)  # (B,K,3,64,64)\n",
        "frames = imgs_b.reshape(-1, 3, 64, 64)  # (B*K,3,64,64)\n",
        "\n",
        "# Build RGB (for encoder) & grayscale target (for recon)\n",
        "frames_gray = torch.mean(frames, dim=1, keepdim=True)           # (B*K,1,64,64)\n",
        "frames_rgb  = frames_gray.repeat(1, 3, 1, 1)                    # (B*K,3,64,64)\n",
        "\n",
        "with torch.no_grad():\n",
        "    tokens = frames_to_tokens(frames_rgb)                       # (B*K, D, H', W')\n",
        "    recons = decoder(tokens)                                    # (B*K,1,64,64)\n",
        "\n",
        "# Metrics\n",
        "psnr_vals = psnr(recons, frames_gray)\n",
        "ssim_vals = ssim_simple(recons, frames_gray)\n",
        "print(f\"PSNR: {psnr_vals.mean().item():.2f} dB  |  SSIM: {ssim_vals.mean().item():.3f}\")\n",
        "\n",
        "# Make a small grid: 8 GTs over 8 RECONs\n",
        "Nshow = min(8, recons.shape[0])\n",
        "gt_grid   = vutils.make_grid(frames_gray[:Nshow], nrow=Nshow, pad_value=1.0)\n",
        "rec_grid  = vutils.make_grid(recons[:Nshow],      nrow=Nshow, pad_value=1.0)\n",
        "stacked   = torch.cat([gt_grid, rec_grid], dim=1)  # vertical concat (C,H*2,W)\n",
        "\n",
        "plt.figure(figsize=(Nshow*1.5, 3))\n",
        "plt.imshow(stacked.permute(1,2,0).cpu().numpy(), vmin=0, vmax=1)\n",
        "plt.axis('off')\n",
        "plt.title(\"Top: Ground Truth  |  Bottom: Reconstruction\")\n",
        "plt.show()\n",
        "\n",
        "os.makedirs(\"vjepa2_decoder_eval\", exist_ok=True)\n",
        "plt.imsave(\"vjepa2_decoder_eval/gt_rec_grid.png\", stacked.permute(1,2,0).cpu().numpy(), vmin=0, vmax=1)\n",
        "print(\"Saved grid to vjepa2_decoder_eval/gt_rec_grid.png\")\n"
      ]
    }
  ],
  "metadata": {
    "accelerator": "GPU",
    "colab": {
      "gpuType": "A100",
      "provenance": []
    },
    "kernelspec": {
      "display_name": "Python 3",
      "name": "python3"
    },
    "language_info": {
      "name": "python"
    }
  },
  "nbformat": 4,
  "nbformat_minor": 0
}